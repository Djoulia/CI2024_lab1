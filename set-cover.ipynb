{
 "cells": [
  {
   "cell_type": "markdown",
   "metadata": {},
   "source": [
    "Copyright **`(c)`** 2024 Giovanni Squillero `<giovanni.squillero@polito.it>`  \n",
    "[`https://github.com/squillero/computational-intelligence`](https://github.com/squillero/computational-intelligence)  \n",
    "Free for personal or classroom use; see [`LICENSE.md`](https://github.com/squillero/computational-intelligence/blob/master/LICENSE.md) for details.  "
   ]
  },
  {
   "cell_type": "markdown",
   "metadata": {},
   "source": [
    "# Set Cover problem\n",
    "\n",
    "See: https://en.wikipedia.org/wiki/Set_cover_problem"
   ]
  },
  {
   "cell_type": "code",
   "execution_count": 59,
   "metadata": {},
   "outputs": [],
   "source": [
    "from random import random, seed\n",
    "import numpy as np\n",
    "import matplotlib.pyplot as plt\n",
    "from itertools import accumulate\n",
    "from icecream import ic"
   ]
  },
  {
   "cell_type": "markdown",
   "metadata": {},
   "source": [
    "## Reproducible Initialization\n",
    "\n",
    "If you want to get reproducible results, use `rng` (and restart the kernel); for non-reproducible ones, use `np.random`."
   ]
  },
  {
   "cell_type": "code",
   "execution_count": 60,
   "metadata": {},
   "outputs": [],
   "source": [
    "UNIVERSE_SIZE = 10_000\n",
    "NUM_SETS = 1_000\n",
    "DENSITY = 0.1\n",
    "\n",
    "rng = np.random.Generator(np.random.PCG64([UNIVERSE_SIZE, NUM_SETS, int(10_000 * DENSITY)]))"
   ]
  },
  {
   "cell_type": "code",
   "execution_count": 61,
   "metadata": {},
   "outputs": [],
   "source": [
    "# DON'T EDIT THESE LINES!\n",
    "\n",
    "SETS = np.random.random((NUM_SETS, UNIVERSE_SIZE)) < DENSITY\n",
    "for s in range(UNIVERSE_SIZE):\n",
    "    if not np.any(SETS[:, s]):\n",
    "        SETS[np.random.randint(NUM_SETS), s] = True\n",
    "COSTS = np.power(SETS.sum(axis=1), 1.1)"
   ]
  },
  {
   "cell_type": "markdown",
   "metadata": {},
   "source": [
    "## Helper Functions"
   ]
  },
  {
   "cell_type": "code",
   "execution_count": 62,
   "metadata": {},
   "outputs": [],
   "source": [
    "def valid(solution):\n",
    "    \"\"\"Checks wether solution is valid (ie. covers all universe)\"\"\"\n",
    "    return np.all(np.logical_or.reduce(SETS[solution]))\n",
    "\n",
    "\n",
    "def cost(solution):\n",
    "    \"\"\"Returns the cost of a solution (to be minimized)\"\"\"\n",
    "    return COSTS[solution].sum()"
   ]
  },
  {
   "cell_type": "markdown",
   "metadata": {},
   "source": [
    "## Improved RHMC"
   ]
  },
  {
   "cell_type": "code",
   "execution_count": 64,
   "metadata": {},
   "outputs": [],
   "source": [
    "def one_lambda_es(solution : np.ndarray, strength : float, Lambda : int ) -> np.ndarray:\n",
    "    CHILDREN = np.empty((Lambda, NUM_SETS), dtype=bool)\n",
    "    for child in range(Lambda):\n",
    "        mask = rng.random(NUM_SETS) < strength\n",
    "        if not np.any(mask):  \n",
    "            mask[np.random.randint(NUM_SETS)] = True\n",
    "        CHILDREN[child] = np.logical_xor(solution, mask)\n",
    "    \n",
    "    return CHILDREN\n"
   ]
  },
  {
   "cell_type": "code",
   "execution_count": 65,
   "metadata": {},
   "outputs": [],
   "source": [
    "#Fitness functioon\n",
    "\n",
    "def fitness(solution: np.ndarray) :\n",
    "    return (valid(solution), -cost(solution))"
   ]
  },
  {
   "cell_type": "markdown",
   "metadata": {},
   "source": [
    "## Hill climber"
   ]
  },
  {
   "cell_type": "code",
   "execution_count": 68,
   "metadata": {},
   "outputs": [
    {
     "name": "stderr",
     "output_type": "stream",
     "text": [
      "ic| fitness(solution): (np.True_, np.float64(-1991578.7707485426))\n",
      "ic| fitness(solution): (np.True_, np.float64(-119626.31151318751))\n"
     ]
    },
    {
     "data": {
      "image/png": "[encoded data removed]",
      "text/plain": [
       "<Figure size 1400x800 with 1 Axes>"
      ]
     },
     "metadata": {},
     "output_type": "display_data"
    }
   ],
   "source": [
    "BUFFER_SIZE = 5 #rule of one out of five\n",
    "Lambda = 10\n",
    "\n",
    "#Initialization\n",
    "solution = rng.random(NUM_SETS) < 1  \n",
    "solution_fitness = fitness(solution)[1]\n",
    "history = [float(solution_fitness)]\n",
    "ic(fitness(solution))\n",
    "\n",
    "#\"Simulated Annealing\" \n",
    "strength = 0.5\n",
    "buffer = list()\n",
    "\n",
    "for steps in range (10_000):\n",
    "    #using one_lambda_method\n",
    "    new_solutions = one_lambda_es(solution, strength, Lambda)\n",
    "\n",
    "    best_fitness=solution_fitness \n",
    "    new_solution=solution  \n",
    "\n",
    "    # Parcourir chaque enfant généré\n",
    "    for i in range(Lambda):\n",
    "        valid_solution, f = fitness(new_solutions[i]) \n",
    "        if valid_solution and f > best_fitness: \n",
    "            best_fitness = f  \n",
    "            new_solution = new_solutions[i]  \n",
    "\n",
    "    history.append(float(best_fitness))\n",
    "\n",
    "    #1 out of 5 method\n",
    "    buffer.append(best_fitness > solution_fitness)\n",
    "    buffer = buffer[-BUFFER_SIZE:]  \n",
    "\n",
    "    if sum(buffer) > 1:  \n",
    "        strength *= 1.1\n",
    "    elif sum(buffer) == 0:  \n",
    "        strength /= 1.1\n",
    "\n",
    "    if best_fitness > solution_fitness:\n",
    "        solution = new_solution\n",
    "        solution_fitness = best_fitness\n",
    "\n",
    "#ic(solution)\n",
    "ic(fitness(solution))\n",
    "\n",
    "plt.figure(figsize=(14, 8))\n",
    "plt.plot(\n",
    "    range(len(history)),\n",
    "    list(accumulate(history, max)),\n",
    "    color=\"red\",\n",
    ")\n",
    "_ = plt.scatter(range(len(history)), history, marker=\".\")"
   ]
  }
 ],
 "metadata": {
  "kernelspec": {
   "display_name": "Python 3",
   "language": "python",
   "name": "python3"
  },
  "language_info": {
   "codemirror_mode": {
    "name": "ipython",
    "version": 3
   },
   "file_extension": ".py",
   "mimetype": "text/x-python",
   "name": "python",
   "nbconvert_exporter": "python",
   "pygments_lexer": "ipython3",
   "version": "3.11.9"
  }
 },
 "nbformat": 4,
 "nbformat_minor": 4
}
