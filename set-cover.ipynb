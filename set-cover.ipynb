{
 "cells": [
  {
   "cell_type": "markdown",
   "metadata": {},
   "source": [
    "Copyright **`(c)`** 2024 Giovanni Squillero `<giovanni.squillero@polito.it>`  \n",
    "[`https://github.com/squillero/computational-intelligence`](https://github.com/squillero/computational-intelligence)  \n",
    "Free for personal or classroom use; see [`LICENSE.md`](https://github.com/squillero/computational-intelligence/blob/master/LICENSE.md) for details.  "
   ]
  },
  {
   "cell_type": "markdown",
   "metadata": {},
   "source": [
    "# Set Cover problem\n",
    "\n",
    "See: https://en.wikipedia.org/wiki/Set_cover_problem"
   ]
  },
  {
   "cell_type": "code",
   "execution_count": 8,
   "metadata": {},
   "outputs": [],
   "source": [
    "from random import random, seed\n",
    "import numpy as np\n",
    "import matplotlib.pyplot as plt\n",
    "from itertools import accumulate\n",
    "from icecream import ic"
   ]
  },
  {
   "cell_type": "markdown",
   "metadata": {},
   "source": [
    "## Reproducible Initialization\n",
    "\n",
    "If you want to get reproducible results, use `rng` (and restart the kernel); for non-reproducible ones, use `np.random`."
   ]
  },
  {
   "cell_type": "code",
   "execution_count": 9,
   "metadata": {},
   "outputs": [],
   "source": [
    "UNIVERSE_SIZE = 10_000\n",
    "NUM_SETS = 1_000\n",
    "DENSITY = 0.1\n",
    "\n",
    "rng = np.random.Generator(np.random.PCG64([UNIVERSE_SIZE, NUM_SETS, int(10_000 * DENSITY)]))"
   ]
  },
  {
   "cell_type": "code",
   "execution_count": 10,
   "metadata": {},
   "outputs": [],
   "source": [
    "# DON'T EDIT THESE LINES!\n",
    "\n",
    "SETS = np.random.random((NUM_SETS, UNIVERSE_SIZE)) < DENSITY\n",
    "for s in range(UNIVERSE_SIZE):\n",
    "    if not np.any(SETS[:, s]):\n",
    "        SETS[np.random.randint(NUM_SETS), s] = True\n",
    "COSTS = np.power(SETS.sum(axis=1), 1.1)"
   ]
  },
  {
   "cell_type": "markdown",
   "metadata": {},
   "source": [
    "## Helper Functions"
   ]
  },
  {
   "cell_type": "code",
   "execution_count": 11,
   "metadata": {},
   "outputs": [],
   "source": [
    "def valid(solution):\n",
    "    \"\"\"Checks wether solution is valid (ie. covers all universe)\"\"\"\n",
    "    return np.all(np.logical_or.reduce(SETS[solution]))\n",
    "\n",
    "\n",
    "def cost(solution):\n",
    "    \"\"\"Returns the cost of a solution (to be minimized)\"\"\"\n",
    "    return COSTS[solution].sum()"
   ]
  },
  {
   "cell_type": "markdown",
   "metadata": {},
   "source": [
    "## Continuous space optimization"
   ]
  },
  {
   "cell_type": "code",
   "execution_count": 38,
   "metadata": {},
   "outputs": [],
   "source": [
    "def one_lambda_es(solution: np.ndarray, strength: float, Lambda: int) -> np.ndarray:\n",
    "    CHILDREN = np.zeros((Lambda, solution.shape[0]), dtype=bool)\n",
    "    \n",
    "    for child in range(Lambda):\n",
    "        mask = rng.random(solution.shape[0]) < strength  # Assurer que mask est de la taille de solution\n",
    "        if not np.any(mask):  \n",
    "            mask[np.random.randint(solution.shape[0])] = True\n",
    "        CHILDREN[child] = np.logical_xor(solution, mask)\n",
    "    \n",
    "    return CHILDREN"
   ]
  },
  {
   "cell_type": "markdown",
   "metadata": {},
   "source": [
    "## Hill climber"
   ]
  },
  {
   "cell_type": "code",
   "execution_count": 40,
   "metadata": {},
   "outputs": [],
   "source": [
    "def hill_climb(universe_size, num_sets, density):\n",
    "\n",
    "    UNIVERSE_SIZE = universe_size\n",
    "    NUM_SETS = num_sets\n",
    "    DENSITY = density\n",
    "\n",
    "    rng = np.random.Generator(np.random.PCG64([UNIVERSE_SIZE, NUM_SETS, int(10_000 * DENSITY)]))\n",
    "    SETS = np.random.random((NUM_SETS, UNIVERSE_SIZE)) < DENSITY\n",
    "    for s in range(UNIVERSE_SIZE):\n",
    "        if not np.any(SETS[:, s]):\n",
    "            SETS[np.random.randint(NUM_SETS), s] = True\n",
    "    COSTS = np.power(SETS.sum(axis=1), 1.1)\n",
    "\n",
    "    def valid(solution):\n",
    "        \"\"\"Checks whether the solution covers all elements in the universe\"\"\"\n",
    "        selected_sets = SETS[solution]\n",
    "        return np.all(np.logical_or.reduce(selected_sets))\n",
    "\n",
    "    def cost(solution):\n",
    "        return COSTS[solution].sum()\n",
    "\n",
    "    def fitness(solution):\n",
    "        return valid(solution), -cost(solution)\n",
    "\n",
    "    BUFFER_SIZE = 5 #rule of one out of five\n",
    "    Lambda = 10\n",
    "\n",
    "    #Initialization\n",
    "    solution = rng.random(NUM_SETS) < 1  \n",
    "    solution_fitness = fitness(solution)[1]\n",
    "    history = [float(solution_fitness)]\n",
    "    fitsness1 = (fitness(solution))\n",
    "\n",
    "    #\"Simulated Annealing\" \n",
    "    strength = 0.5\n",
    "    buffer = list()\n",
    "\n",
    "    for steps in range (10_000):\n",
    "        #using one_lambda_method\n",
    "        new_solutions = one_lambda_es(solution, strength, Lambda)\n",
    "\n",
    "        best_fitness=solution_fitness \n",
    "        new_solution=solution  \n",
    "\n",
    "        for i in range(Lambda):\n",
    "            valid_solution, f = fitness(new_solutions[i]) \n",
    "            if valid_solution and f > best_fitness: \n",
    "                best_fitness = f  \n",
    "                new_solution = new_solutions[i]  \n",
    "\n",
    "        history.append(float(best_fitness))\n",
    "\n",
    "        #1 out of 5 method\n",
    "        buffer.append(best_fitness > solution_fitness)\n",
    "        buffer = buffer[-BUFFER_SIZE:]  \n",
    "\n",
    "        if sum(buffer) > 1:  \n",
    "            strength *= 1.1\n",
    "        elif sum(buffer) == 0:  \n",
    "            strength /= 1.1\n",
    "\n",
    "        if best_fitness > solution_fitness:\n",
    "            solution = new_solution\n",
    "            solution_fitness = best_fitness\n",
    "\n",
    "    fitness2 = (fitness(solution))\n",
    "    return (fitsness1,fitness2)\n"
   ]
  },
  {
   "cell_type": "markdown",
   "metadata": {},
   "source": [
    "## Results"
   ]
  },
  {
   "cell_type": "code",
   "execution_count": null,
   "metadata": {},
   "outputs": [
    {
     "name": "stdout",
     "output_type": "stream",
     "text": [
      "\n",
      "Test Case 1: Universe Size = 100, Num Sets = 10, Density = 0.2\n",
      "Fitness Before: (np.True_, np.float64(-309.1213513636662))\n",
      "Fitness After: (np.True_, np.float64(-286.55331289056136))\n",
      "\n",
      "Test Case 2: Universe Size = 1000, Num Sets = 100, Density = 0.2\n",
      "Fitness Before: (np.True_, np.float64(-33820.9278750089))\n",
      "Fitness After: (np.True_, np.float64(-7256.735508794502))\n",
      "\n",
      "Test Case 3: Universe Size = 10000, Num Sets = 1000, Density = 0.2\n",
      "Fitness Before: (np.True_, np.float64(-4272918.687624525))\n",
      "Fitness After: (np.True_, np.float64(-134130.7120029037))\n",
      "\n",
      "Test Case 4: Universe Size = 100000, Num Sets = 10000, Density = 0.1\n"
     ]
    }
   ],
   "source": [
    "#funtion structure idea (list) found on internet\n",
    "def run_experiments():\n",
    "    test_cases = [\n",
    "        (100, 10, 0.2),\n",
    "        (1_000, 100, 0.2),\n",
    "        (10_000, 1_000, 0.2),\n",
    "        (100_000, 10_000, 0.1),\n",
    "        (100_000, 10_000, 0.2),\n",
    "        (100_000, 10_000, 0.3)]\n",
    "\n",
    "    for idx, (universe_size, num_sets, density) in enumerate(test_cases, 1):\n",
    "        print(f\"\\nTest Case {idx}:Universe Size={universe_size}, Num Sets={num_sets}, Density={density}\")\n",
    "        fitness_before, fitness_after = hill_climb(universe_size, num_sets, density)\n",
    "        \n",
    "        print(f\"Fitness Before: {fitness_before}\")\n",
    "        print(f\"Fitness After: {fitness_after}\")\n",
    "\n",
    "run_experiments()\n"
   ]
  }
 ],
 "metadata": {
  "kernelspec": {
   "display_name": "Python 3",
   "language": "python",
   "name": "python3"
  },
  "language_info": {
   "codemirror_mode": {
    "name": "ipython",
    "version": 3
   },
   "file_extension": ".py",
   "mimetype": "text/x-python",
   "name": "python",
   "nbconvert_exporter": "python",
   "pygments_lexer": "ipython3",
   "version": "3.11.9"
  }
 },
 "nbformat": 4,
 "nbformat_minor": 4
}
